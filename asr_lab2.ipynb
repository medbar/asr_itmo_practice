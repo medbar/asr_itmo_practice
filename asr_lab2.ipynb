{
 "cells": [
  {
   "cell_type": "markdown",
   "id": "04d0eabe",
   "metadata": {},
   "source": [
    "# Языковые модели\n",
    "\n",
    "Языковые модели играют важную роль в системах распознавания речи, помогая создавать более грамотные и лексически корректные тексты. В данной работе мы будем изучать нграмные языковые модели, которые позволяют довольно легко оценить вероятность и правдоподобность текста.\n",
    "\n",
    "В нграмной языковой модели, нграм - это последовательность из n слов в тексте. Например, в предложении \"по-моему мы сэкономим уйму времени если я сойду с ума прямо сейчас\", биграмами будут \"по-моему мы\", \"мы сэкономим\", \"сэкономим уйму\" итд. Языковые модели оценивают вероятность появления последовательности слов, исходя из статистики появления каждого из нграм в обучающей выборке.\n",
    "\n",
    "Порядком (order) нграм языковой модели называют максимальную длину нграм, которую учитывает модель. \n",
    "\n",
    "Практическая работа разделена на 2 части: \n",
    "1. Построение нграмой языковой модели - основная часть, 12 баллов\n",
    "1. Предсказание с помощью языковой модели - дополнительная часть, 4 балла\n",
    "\n",
    "\n",
    "\n",
    "Полезные сслыки:\n",
    "* arpa формат - https://cmusphinx.github.io/wiki/arpaformat/\n",
    "* обучающие материалы - https://pages.ucsd.edu/~rlevy/teaching/2015winter/lign165/lectures/lecture13/lecture13_ngrams_with_SRILM.pdf\n",
    "* обучающие материалы.2 - https://cjlise.github.io/machine-learning/N-Gram-Language-Model/"
   ]
  },
  {
   "cell_type": "code",
   "execution_count": 1,
   "id": "4bd5c324",
   "metadata": {},
   "outputs": [],
   "source": [
    "import numpy as np\n",
    "from collections import defaultdict\n",
    "from typing import List, Dict, Tuple"
   ]
  },
  {
   "cell_type": "markdown",
   "id": "b0c1c1d7",
   "metadata": {},
   "source": [
    "# 1. Построение нграмной языковой модели. (12 баллов)\n",
    "\n",
    "\n",
    "Вероятность текста с помощью нграмной языковой модели можно вычислить по формуле: \n",
    "$$ P(w_1, w_2, .., w_n) = {\\prod{{P_{i=0}^{n}(w_i| w_{i-order}, .., w_{i-1})}}} $$\n",
    "\n",
    "В простом виде, при обучении нграмной языковой модели, чтобы рассчитать условную вероятность каждой нграмы, используется формула, основанная на количестве появлений нграмы в обучающей выборке. Формула выглядит следующим образом:\n",
    "$$ P(w_i| w_{i-order}, .., w_{i-1}) = {{count(w_{i-order}, .., w_{i})} \\over {count(w_{i-order},..., w_{i-1})}} $$\n",
    "\n",
    "Поскольку униграмы не содержат в себе какого-дибо контекста, вероятность униграмы можно посчитать поделив кол-во этой слова на общее количество слов в обучающей выборке. \n"
   ]
  },
  {
   "cell_type": "code",
   "execution_count": 2,
   "id": "5837fe90",
   "metadata": {},
   "outputs": [],
   "source": [
    "# в первую очередь нам понадобится подсчитать статистику по обучающей выборке \n",
    "def count_ngrams(train_text: List[str], order=3, bos=True, eos=True) -> Dict[Tuple[str], int]:\n",
    "    ngrams = defaultdict(int)\n",
    "    # TODO реализуйте функцию, которая подсчитывает все 1-gram 2-gram ... order-gram ngram'ы в тексте\n",
    "    \n",
    "    # \n",
    "    return dict(ngrams)"
   ]
  },
  {
   "cell_type": "code",
   "execution_count": 3,
   "id": "6e105553-1df1-4e09-8204-5914f7626b00",
   "metadata": {},
   "outputs": [
    {
     "name": "stdout",
     "output_type": "stream",
     "text": [
      "{('<s>',): 2, ('Костянчик',): 1, ('купил',): 1, ('тачку',): 1, ('</s>',): 2, ('<s>', 'Костянчик'): 1, ('Костянчик', 'купил'): 1, ('купил', 'тачку'): 1, ('тачку', '</s>'): 1, ('<s>', 'Костянчик', 'купил'): 1, ('Костянчик', 'купил', 'тачку'): 1, ('купил', 'тачку', '</s>'): 1, ('тачки',): 1, ('это',): 1, ('круто',): 1, ('<s>', 'тачки'): 1, ('тачки', 'это'): 1, ('это', 'круто'): 1, ('круто', '</s>'): 1, ('<s>', 'тачки', 'это'): 1, ('тачки', 'это', 'круто'): 1, ('это', 'круто', '</s>'): 1}\n"
     ]
    }
   ],
   "source": [
    "def count_ngrams(train_text: List[str], order: int = 3, bos: bool = True, eos: bool = True) -> Dict[Tuple[str], int]:\n",
    "    ngrams = defaultdict(int)\n",
    "    \n",
    "    for sentence in train_text:\n",
    "        # разбиваем предложение на слова\n",
    "        words = sentence.split()\n",
    "        if bos:\n",
    "            # добавляем символ начала предложения\n",
    "            words = ['<s>'] + words\n",
    "        if eos:\n",
    "            # добавляем символ конца предложения\n",
    "            words += ['</s>']\n",
    "\n",
    "        # для каждого порядка от 1 до order\n",
    "        for o in range(1, order + 1):\n",
    "            # итерируемся по словам в предложении\n",
    "            for i in range(len(words) - o + 1):\n",
    "                # получаем n-грамму\n",
    "                ngram = tuple(words[i:i + o])\n",
    "                ngrams[ngram] += 1\n",
    "\n",
    "    return dict(ngrams)\n",
    "\n",
    "train_text = [\"Костянчик купил тачку\", \"тачки это круто\"]\n",
    "ngrams = count_ngrams(train_text, order=3)\n",
    "print(ngrams)"
   ]
  },
  {
   "cell_type": "code",
   "execution_count": 4,
   "id": "fd69d44d",
   "metadata": {},
   "outputs": [
    {
     "name": "stdout",
     "output_type": "stream",
     "text": [
      "Test 1a passed\n"
     ]
    }
   ],
   "source": [
    "def test_count_ngrams():\n",
    "    assert count_ngrams(['привет привет как дела'], order=1, bos=True, eos=True) == {\n",
    "        ('<s>',): 1, \n",
    "        ('привет',): 2, \n",
    "        ('как',): 1, \n",
    "        ('дела',): 1, \n",
    "        ('</s>',): 1\n",
    "    }\n",
    "    assert count_ngrams(['привет привет как дела'], order=1, bos=False, eos=True) == {\n",
    "        ('привет',): 2, \n",
    "        ('как',): 1, \n",
    "        ('дела',): 1, \n",
    "        ('</s>',): 1\n",
    "    }\n",
    "    assert count_ngrams(['привет привет как дела'], order=1, bos=False, eos=False) == {\n",
    "        ('привет',): 2, \n",
    "        ('как',): 1, \n",
    "        ('дела',): 1\n",
    "    }\n",
    "    assert count_ngrams(['привет привет как дела'], order=2, bos=False, eos=False) == {\n",
    "        ('привет',): 2, \n",
    "        ('как',): 1, \n",
    "        ('дела',): 1,\n",
    "        ('привет', 'привет'): 1,\n",
    "        ('привет', 'как'): 1,\n",
    "        ('как', 'дела'): 1\n",
    "    }    \n",
    "    assert count_ngrams(['привет ' * 6], order=2, bos=False, eos=False) == {\n",
    "        ('привет',): 6, \n",
    "        ('привет', 'привет'): 5\n",
    "    }\n",
    "    result = count_ngrams(['практическое сентября',\n",
    "                           'второе практическое занятие пройдет в офлайне 32 сентября в 12 часов 32 минуты',\n",
    "                           'в офлайне в 32 12'], order=5)\n",
    "    assert result[('<s>',)] == 3\n",
    "    assert result[('32',)] == 3\n",
    "    assert result[('<s>', 'в', 'офлайне', 'в', '32')] == 1\n",
    "    assert result[('офлайне', 'в', '32', '12', '</s>')] == 1\n",
    "    print('Test 1a passed')\n",
    "    \n",
    "    \n",
    "test_count_ngrams()  "
   ]
  },
  {
   "cell_type": "markdown",
   "id": "ac6e1865",
   "metadata": {},
   "source": [
    "\n",
    "Простой подход к вычислению вероятностей через количество нграм имеет существенный недостаток. Если в тексте встретится нграмма, которой не было в обучающей выборке, то вероятность всего текста будет равна нулю. \n",
    "\n",
    "Чтобы избежать данного недостатка, вводится специальное сглаживание - [сглаживание Лапласа](https://en.wikipedia.org/wiki/Additive_smoothing). Данная техника позволяет учитывать нграмы, не встретившиеся в обучающей выборке, и при этом не делает вероятность текста равной нулю.\n",
    "\n",
    "Формула сглаживания Лапласа выглядит следующим образом:\n",
    "\n",
    "$$ P(w_i| w_{i-order}, .., w_{i-1}) = {{count(w_{i-order}, .., w_{i}) + k} \\over {count(w_{i-order},..., w_{i-1}) + k*V}} $$\n",
    "\n",
    "Здесь V - количество слов в словаре, а k - гиперпараметр, который контролирует меру сглаживания. Как правило, значение k выбирается экспериментально, чтобы найти оптимальный баланс между учетом редких нграм и сохранением вероятности для часто встречающихся нграм.\n"
   ]
  },
  {
   "cell_type": "code",
   "execution_count": 5,
   "id": "4cafb4b8",
   "metadata": {},
   "outputs": [],
   "source": [
    "# функция подсчета вероятности через количество со сглаживанием Лапласа\n",
    "def calculate_ngram_prob(ngram: Tuple[str], counts: Dict[Tuple[str], int], V=None, k=0) -> float:\n",
    "    # подсчитывет ngram со сглаживанием Лапласа\n",
    "    # TODO\n",
    "    return prob"
   ]
  },
  {
   "cell_type": "code",
   "execution_count": 6,
   "id": "c17692e7-676d-4cd6-a53e-2c52ccca8992",
   "metadata": {},
   "outputs": [
    {
     "name": "stdout",
     "output_type": "stream",
     "text": [
      "0.1111111111111111\n"
     ]
    }
   ],
   "source": [
    "# функция подсчета вероятности через количество со сглаживанием Лапласа\n",
    "def calculate_ngram_prob(ngram: Tuple[str], counts: Dict[Tuple[str], int], V=None, k=0) -> float:\n",
    "    # количество вхождений данной n-граммы + параметр сглаживания k\n",
    "    numerator = counts.get(ngram, 0) + k\n",
    "    # получаем n-грамму для знаменателя (без последнего слова)\n",
    "    denominator_ngram = ngram[:-1]\n",
    "    # сумма всех вхождений n-грамм, начинающихся с denominator_ngram\n",
    "    denominator = sum(value for key, value in counts.items() if key[:-1] == denominator_ngram)\n",
    "\n",
    "    # если V (количество уникальных слов в словаре) не задано, вычисляем его\n",
    "    if V is None:\n",
    "        V = len(set([key[-1] for key in counts.keys()]))  \n",
    "\n",
    "    # формула сглаживания Лапласа\n",
    "    prob = numerator / (denominator + k * V)\n",
    "    return prob\n",
    "\n",
    "counts = count_ngrams([\"Костянчик купил тачку\", \"тачки это круто\"], order=3)\n",
    "print(calculate_ngram_prob((\"купил\", \"тачки\"), counts, k=1))"
   ]
  },
  {
   "cell_type": "code",
   "execution_count": 7,
   "id": "60b25d7f",
   "metadata": {},
   "outputs": [
    {
     "name": "stdout",
     "output_type": "stream",
     "text": [
      "Test 1.b passed\n"
     ]
    }
   ],
   "source": [
    "def test_calculate_ngram_prob():\n",
    "    counts = count_ngrams(['практическое сентября',\n",
    "                           'второе практическое занятие в офлайне 32 сентября в 12 часов 32 минуты',\n",
    "                           'в офлайне в 32 12'], order=4)\n",
    "    assert calculate_ngram_prob(('в', 'офлайне'), counts) == 0.5\n",
    "    assert calculate_ngram_prob(('в', ), counts) == 4/25\n",
    "    assert calculate_ngram_prob(('в', ), counts, k=0.5) == (4+0.5)/(25+0.5*12)\n",
    "    assert calculate_ngram_prob(('в', 'офлайне', 'в', '32'), counts) == 1.0\n",
    "    assert calculate_ngram_prob(('в', 'офлайне'), counts, k=1) == 0.1875\n",
    "    assert calculate_ngram_prob(('в', 'офлайне'), counts, k=0.5) == 0.25\n",
    "    assert calculate_ngram_prob(('в', 'онлайне'), counts, k=0) == 0.0\n",
    "    assert calculate_ngram_prob(('в', 'онлайне'), counts, k=1) == 0.0625\n",
    "    assert calculate_ngram_prob(('в', 'офлайне'), counts, k=0.5) == 0.25\n",
    "\n",
    "    print(\"Test 1.b passed\")\n",
    "    \n",
    "\n",
    "test_calculate_ngram_prob()  "
   ]
  },
  {
   "cell_type": "markdown",
   "id": "da494bf0",
   "metadata": {},
   "source": [
    "Основной метрикой язковых моделей является перплексия. \n",
    "\n",
    "Перплексия  — безразмерная величина, мера того, насколько хорошо распределение вероятностей предсказывает выборку. Низкий показатель перплексии указывает на то, что распределение вероятности хорошо предсказывает выборку.\n",
    "\n",
    "$$ ppl = {P(w_1, w_2 ,..., w_N)^{- {1} \\over {N}}} $$"
   ]
  },
  {
   "cell_type": "code",
   "execution_count": 8,
   "id": "4bd1f2e5",
   "metadata": {},
   "outputs": [],
   "source": [
    "# Языковая модель \n",
    "class NgramLM:\n",
    "    def __init__(self, order=3, bos=True, eos=True, k=1, predefined_vocab=None):\n",
    "        self.order = order\n",
    "        self.eos = eos\n",
    "        self.bos = bos\n",
    "        self.k = k\n",
    "        self.vocab = predefined_vocab\n",
    "        self.ngrams_count = None\n",
    "        \n",
    "    @property\n",
    "    def V(self) -> int:\n",
    "        return len(self.vocab)\n",
    "    \n",
    "    def fit(self, train_text: List[str]) -> None:\n",
    "        # TODO\n",
    "        # Подсчет vocab и ngrams_count по обучающей выборке\n",
    "        pass\n",
    "                \n",
    "    \n",
    "    def predict_ngram_log_proba(self, ngram: Tuple[str]) -> float:\n",
    "        # TODO \n",
    "        # считаем логарифм вероятности конкретной нграмы\n",
    "        pass\n",
    "           \n",
    "    def predict_log_proba(self, words: List[str]) -> float:\n",
    "        if self.bos:\n",
    "            words = ['<s>'] + words\n",
    "        if self.eos:\n",
    "            words = words + ['</s>']\n",
    "        logprob = 0\n",
    "        # TODO \n",
    "        # применяем chain rule, чтобы посчитать логарифм вероятности всей строки\n",
    "        return logprob\n",
    "        \n",
    "    def ppl(self, text: List[str]) -> float:\n",
    "        #TODO \n",
    "        # подсчет перплексии\n",
    "        # Для того, чтобы ваш код был численно стабильным, \n",
    "        #    не считайте формулу напрямую, а воспользуйтесь переходом к логарифмам вероятностей\n",
    "        # \n",
    "        return perplexity"
   ]
  },
  {
   "cell_type": "code",
   "execution_count": 9,
   "id": "2c230018-7456-46c2-95cc-083ef015573a",
   "metadata": {},
   "outputs": [],
   "source": [
    "class NgramLM:\n",
    "    def __init__(self, order=3, bos=True, eos=True, k=1, predefined_vocab=None):\n",
    "        self.order = order\n",
    "        self.eos = eos\n",
    "        self.bos = bos\n",
    "        self.k = k\n",
    "        self.vocab = predefined_vocab or set()\n",
    "        self.ngrams_count = defaultdict(int)\n",
    "\n",
    "    # возвращает размер словаря\n",
    "    @property\n",
    "    def V(self) -> int:\n",
    "        return len(self.vocab)\n",
    "\n",
    "    # обучает модель на основе предложений в train_text\n",
    "    def fit(self, train_text: List[str]) -> None:\n",
    "        for text in train_text:\n",
    "            tokens = text.strip().split()\n",
    "\n",
    "            if self.bos:\n",
    "                tokens = [\"<s>\"] + tokens\n",
    "\n",
    "            if self.eos:\n",
    "                tokens = tokens + [\"</s>\"]\n",
    "\n",
    "            for n in range(0, self.order):\n",
    "                for pos in range(0, len(tokens)):\n",
    "                    ngram = tuple(tokens[pos:pos+n+1])\n",
    "\n",
    "                    if len(ngram) < n + 1:\n",
    "                        continue\n",
    "\n",
    "                    self.ngrams_count[ngram] += 1\n",
    "\n",
    "                    if len(ngram) == 1:\n",
    "                        self.vocab.add(ngram[0])\n",
    "\n",
    "    # предсказывает логарифм вероятности для заданной n-граммы\n",
    "    def predict_ngram_log_proba(self, ngram: Tuple[str]) -> float:\n",
    "        ngram_count = self.ngrams_count[ngram] if ngram in self.ngrams_count else 0\n",
    "\n",
    "        n = len(ngram)\n",
    "\n",
    "        rest_count = 0\n",
    "        for ngram_text, count in self.ngrams_count.items():\n",
    "            if len(ngram_text) == n and ngram_text[:-1] == ngram[:-1]:\n",
    "                rest_count += count\n",
    "\n",
    "        prob = (ngram_count + self.k) / (rest_count + (self.k * self.V))\n",
    "        \n",
    "        return np.log(prob)\n",
    "\n",
    "    # предсказывает логарифм вероятности последовательности токенов\n",
    "    def predict_log_proba(self, tokens: List[str], return_ngrams_count: bool = False) -> float:\n",
    "        if self.bos:\n",
    "            tokens = ['<s>'] + tokens\n",
    "        if self.eos:\n",
    "            tokens = tokens + ['</s>']\n",
    "        cumulative_log_proba = 0\n",
    "    \n",
    "        filtered_tokens = []\n",
    "        for token in tokens:\n",
    "            if token.strip() != \"\":\n",
    "                filtered_tokens.append(token)\n",
    "    \n",
    "        total_ngrams = 0\n",
    "        for idx in range(len(filtered_tokens)):\n",
    "            slice_start = max(idx + 1 - self.order, 0)\n",
    "            slice_end = idx + 1\n",
    "    \n",
    "            current_ngram = tuple(filtered_tokens[slice_start:slice_end])\n",
    "            cumulative_log_proba += self.predict_ngram_log_proba(current_ngram)\n",
    "            \n",
    "            total_ngrams += 1\n",
    "    \n",
    "        return (cumulative_log_proba, total_ngrams) if return_ngrams_count else cumulative_log_proba\n",
    "\n",
    "    # вычисляет перплексию на тестовых предложениях\n",
    "    def ppl(self, test_sentences: List[str]) -> float:\n",
    "        aggregated_log_prob = 0\n",
    "        total_ngrams = 0\n",
    "\n",
    "        for test_sentence in test_sentences:\n",
    "            test_words = test_sentence.strip().split()\n",
    "            sentence_log_prob, ngram_count = self.predict_log_proba(test_words, return_ngrams_count=True)\n",
    "            aggregated_log_prob += sentence_log_prob\n",
    "            total_ngrams += ngram_count\n",
    "\n",
    "        return np.exp(-aggregated_log_prob / total_ngrams)"
   ]
  },
  {
   "cell_type": "code",
   "execution_count": null,
   "id": "8a7d17d8-ac74-4208-859e-551ca3a5e89a",
   "metadata": {},
   "outputs": [],
   "source": []
  },
  {
   "cell_type": "code",
   "execution_count": 10,
   "id": "bb0bfe64",
   "metadata": {},
   "outputs": [],
   "source": [
    "def test_lm():\n",
    "    train_data = [\"по-моему мы сэкономим уйму времени если я сойду с ума прямо сейчас\",\n",
    "                  \"если я сойду с ума прямо сейчас по-моему мы сэкономим уйму времени\",\n",
    "                  \"мы сэкономим уйму времени если я сейчас сойду с ума по-моему\"]\n",
    "    global lm\n",
    "    lm = NgramLM(order=2)\n",
    "    lm.fit(train_data)\n",
    "    assert lm.V == 14\n",
    "    assert np.isclose(lm.predict_log_proba(['мы']), lm.predict_log_proba([\"если\"]))\n",
    "    assert lm.predict_log_proba([\"по-моему\"]) > lm.predict_log_proba([\"если\"]) \n",
    "    \n",
    "    gt = ((3+1)/(41 + 14) * 1/(3+14))**(-1/2)\n",
    "    ppl = lm.ppl([''])\n",
    "    assert  np.isclose(ppl, gt), f\"{ppl=} {gt=}\"\n",
    "    \n",
    "    gt = ((3+1)/(41 + 14) * 1/(3+14) * 1/(14)) ** (-1/3)\n",
    "    ppl = lm.ppl(['ЧТО'])\n",
    "    assert  np.isclose(ppl, gt), f\"{ppl=} {gt=}\"\n",
    "    \n",
    "    test_data = [\"по-моему если я прямо сейчас сойду с ума мы сэкономим уйму времени\"]\n",
    "    ppl = lm.ppl(test_data)\n",
    "    assert round(ppl, 2) == 7.33, f\"{ppl}\"\n",
    "test_lm()"
   ]
  },
  {
   "cell_type": "markdown",
   "id": "edafa0a2",
   "metadata": {},
   "source": [
    "# 2. Предсказания с помощью языковой модели (4 балла)"
   ]
  },
  {
   "cell_type": "code",
   "execution_count": 11,
   "id": "85d2eb63",
   "metadata": {},
   "outputs": [],
   "source": [
    "def predict_next_word(lm: NgramLM, prefix: List[str], topk=4):\n",
    "    # TODO реализуйте функцию, которая предсказывает продолжение фразы. \n",
    "    # верните topk наиболее вероятных продолжений фразы prefix \n",
    "    return word\n",
    "    "
   ]
  },
  {
   "cell_type": "markdown",
   "id": "3fc4846b",
   "metadata": {},
   "source": [
    "Обучите языковую модель на всем тексте из этой лабораторной работы (не забудьте заранее нормализовать текст).\n",
    "\n",
    "Что предскажет модель по префиксам `по-моему`, `сэкономим`, `нграм` и `вероятности`? "
   ]
  },
  {
   "cell_type": "code",
   "execution_count": 12,
   "id": "107862fe",
   "metadata": {},
   "outputs": [],
   "source": [
    "#Your code here     "
   ]
  },
  {
   "cell_type": "code",
   "execution_count": null,
   "id": "36a79f5d-350b-4d92-af83-f21c341e3897",
   "metadata": {},
   "outputs": [],
   "source": []
  },
  {
   "cell_type": "code",
   "execution_count": null,
   "id": "ff1d4cd7-b497-49d4-b265-db1c0adaf71e",
   "metadata": {},
   "outputs": [],
   "source": []
  }
 ],
 "metadata": {
  "kernelspec": {
   "display_name": "Python 3 (ipykernel)",
   "language": "python",
   "name": "python3"
  },
  "language_info": {
   "codemirror_mode": {
    "name": "ipython",
    "version": 3
   },
   "file_extension": ".py",
   "mimetype": "text/x-python",
   "name": "python",
   "nbconvert_exporter": "python",
   "pygments_lexer": "ipython3",
   "version": "3.10.11"
  }
 },
 "nbformat": 4,
 "nbformat_minor": 5
}
