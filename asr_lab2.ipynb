{
 "cells": [
  {
   "cell_type": "markdown",
   "id": "04d0eabe",
   "metadata": {},
   "source": [
    "# Языковые модели\n",
    "\n",
    "Языковые модели играют важную роль в системах распознавания речи, помогая создавать более грамотные и лексически корректные тексты. В данной работе мы будем изучать нграмные языковые модели, которые позволяют довольно легко оценить вероятность и правдоподобность текста.\n",
    "\n",
    "В нграмной языковой модели, нграм - это последовательность из n слов в тексте. Например, в предложении \"по-моему мы сэкономим уйму времени если я сойду с ума прямо сейчас\", биграмами будут \"по-моему мы\", \"мы сэкономим\", \"сэкономим уйму\" итд. Языковые модели оценивают вероятность появления последовательности слов, исходя из статистики появления каждого из нграм в обучающей выборке.\n",
    "\n",
    "Порядком (order) нграм языковой модели называют максимальную длину нграм, которую учитывает модель. \n",
    "\n",
    "Практическая работа разделена на 2 части: \n",
    "1. Построение нграмой языковой модели - основная часть, 12 баллов\n",
    "1. Предсказание с помощью языковой модели - дополнительная часть, 4 балла\n",
    "\n",
    "\n",
    "\n",
    "Полезные сслыки:\n",
    "* arpa формат - https://cmusphinx.github.io/wiki/arpaformat/\n",
    "* обучающие материалы - https://pages.ucsd.edu/~rlevy/teaching/2015winter/lign165/lectures/lecture13/lecture13_ngrams_with_SRILM.pdf\n",
    "* обучающие материалы.2 - https://cjlise.github.io/machine-learning/N-Gram-Language-Model/"
   ]
  },
  {
   "cell_type": "code",
   "execution_count": null,
   "id": "4bd5c324",
   "metadata": {},
   "outputs": [],
   "source": [
    "import numpy as np\n",
    "from collections import defaultdict\n",
    "from typing import List, Dict, Tuple"
   ]
  },
  {
   "cell_type": "markdown",
   "id": "b0c1c1d7",
   "metadata": {},
   "source": [
    "# 1. Построение нграмной языковой модели. (12 баллов)\n",
    "\n",
    "\n",
    "Вероятность текста с помощью нграмной языковой модели можно вычислить по формуле: \n",
    "$$ P(w_1, w_2, .., w_n) = {\\prod{{P_{i=0}^{n}(w_i| w_{i-order}, .., w_{i-1})}}} $$\n",
    "\n",
    "В простом виде, при обучении нграмной языковой модели, чтобы рассчитать условную вероятность каждой нграмы, используется формула, основанная на количестве появлений нграмы в обучающей выборке. Формула выглядит следующим образом:\n",
    "$$ P(w_i| w_{i-order}, .., w_{i-1}) = {{count(w_{i-order}, .., w_{i})} \\over {count(w_{i-order},..., w_{i-1})}} $$\n",
    "\n",
    "Поскольку униграмы не содержат в себе какого-дибо контекста, вероятность униграмы можно посчитать поделив кол-во этой слова на общее количество слов в обучающей выборке. \n"
   ]
  },
  {
   "cell_type": "code",
   "execution_count": 9,
   "id": "5837fe90",
   "metadata": {},
   "outputs": [],
   "source": [
    "from typing import List, Dict, Tuple\n",
    "from collections import defaultdict, Counter\n",
    "\n",
    "def count_ngrams(train_text: List[str], order=3, bos=True, eos=True) -> Dict[Tuple[str], int]:\n",
    "    ngrams = defaultdict(int)\n",
    "\n",
    "    for sentence in train_text:\n",
    "        temp = sentence.split()\n",
    "\n",
    "        if bos:\n",
    "            temp = [\"<s>\"] + temp\n",
    "        if eos:\n",
    "            temp += [\"</s>\"]\n",
    "\n",
    "        for step in range(1, min(len(temp) + 1, order + 1)):\n",
    "            for ind in range(len(temp) - step + 1):\n",
    "                ngram = tuple(temp[ind:ind + step])\n",
    "                ngrams[ngram] += 1\n",
    "\n",
    "    return dict(ngrams)"
   ]
  },
  {
   "cell_type": "code",
   "execution_count": 10,
   "id": "fd69d44d",
   "metadata": {},
   "outputs": [
    {
     "name": "stdout",
     "output_type": "stream",
     "text": [
      "Test 1a passed\n"
     ]
    }
   ],
   "source": [
    "def test_count_ngrams():\n",
    "    assert count_ngrams(['привет привет как дела'], order=1, bos=True, eos=True) == {\n",
    "        ('<s>',): 1, \n",
    "        ('привет',): 2, \n",
    "        ('как',): 1, \n",
    "        ('дела',): 1, \n",
    "            ('</s>',): 1\n",
    "    }\n",
    "    assert count_ngrams(['привет привет как дела'], order=1, bos=False, eos=True) == {\n",
    "        ('привет',): 2, \n",
    "        ('как',): 1, \n",
    "        ('дела',): 1, \n",
    "        ('</s>',): 1\n",
    "    }\n",
    "    assert count_ngrams(['привет привет как дела'], order=1, bos=False, eos=False) == {\n",
    "        ('привет',): 2, \n",
    "        ('как',): 1, \n",
    "        ('дела',): 1\n",
    "    }\n",
    "    assert count_ngrams(['привет привет как дела'], order=2, bos=False, eos=False) == {\n",
    "        ('привет',): 2, \n",
    "        ('как',): 1, \n",
    "        ('дела',): 1,\n",
    "        ('привет', 'привет'): 1,\n",
    "        ('привет', 'как'): 1,\n",
    "        ('как', 'дела'): 1\n",
    "    }    \n",
    "    assert count_ngrams(['привет ' * 6], order=2, bos=False, eos=False) == {\n",
    "        ('привет',): 6, \n",
    "        ('привет', 'привет'): 5\n",
    "    }\n",
    "    result = count_ngrams(['практическое сентября',\n",
    "                           'второе практическое занятие пройдет в офлайне 32 сентября в 12 часов 32 минуты',\n",
    "                           'в офлайне в 32 12'], order=5)\n",
    "    assert result[('<s>',)] == 3\n",
    "    assert result[('32',)] == 3\n",
    "    assert result[('<s>', 'в', 'офлайне', 'в', '32')] == 1\n",
    "    assert result[('офлайне', 'в', '32', '12', '</s>')] == 1\n",
    "    print('Test 1a passed')\n",
    "    \n",
    "    \n",
    "test_count_ngrams()  "
   ]
  },
  {
   "cell_type": "markdown",
   "id": "ac6e1865",
   "metadata": {},
   "source": [
    "\n",
    "Простой подход к вычислению вероятностей через количество нграм имеет существенный недостаток. Если в тексте встретится нграмма, которой не было в обучающей выборке, то вероятность всего текста будет равна нулю. \n",
    "\n",
    "Чтобы избежать данного недостатка, вводится специальное сглаживание - [сглаживание Лапласа](https://en.wikipedia.org/wiki/Additive_smoothing). Данная техника позволяет учитывать нграмы, не встретившиеся в обучающей выборке, и при этом не делает вероятность текста равной нулю.\n",
    "\n",
    "Формула сглаживания Лапласа выглядит следующим образом:\n",
    "\n",
    "$$ P(w_i| w_{i-order}, .., w_{i-1}) = {{count(w_{i-order}, .., w_{i}) + k} \\over {count(w_{i-order},..., w_{i-1}) + k*V}} $$\n",
    "\n",
    "Здесь V - количество слов в словаре, а k - гиперпараметр, который контролирует меру сглаживания. Как правило, значение k выбирается экспериментально, чтобы найти оптимальный баланс между учетом редких нграм и сохранением вероятности для часто встречающихся нграм.\n"
   ]
  },
  {
   "cell_type": "code",
   "execution_count": 11,
   "id": "4cafb4b8",
   "metadata": {},
   "outputs": [],
   "source": [
    "from typing import Dict, Tuple\n",
    "\n",
    "def calculate_ngram_prob(ngram: Tuple[str], counts: Dict[Tuple[str], int], V=None, k=0) -> float:\n",
    "    # Подсчитываем вероятность n-граммы с использованием сглаживания Лапласа\n",
    "    # counts - словарь с частотами n-грамм\n",
    "    # V - размер словаря (уникальных токенов), если не указан, будет вычислен автоматически\n",
    "    # k - параметр сглаживания Лапласа\n",
    "\n",
    "    if V is None:\n",
    "        V = len(set(t for ngram in counts.keys() for t in ngram))\n",
    "\n",
    "    # Добавляем сглаживание Лапласа\n",
    "    numerator = counts.get(ngram, 0) + k\n",
    "    denominator = sum(counts[tuple(gram)] for gram in counts.keys() if gram[:-1] == ngram[:-1]) + k * V\n",
    "\n",
    "    # Вычисляем вероятность\n",
    "    prob = numerator / denominator\n",
    "\n",
    "    return prob"
   ]
  },
  {
   "cell_type": "code",
   "execution_count": 12,
   "id": "60b25d7f",
   "metadata": {},
   "outputs": [
    {
     "name": "stdout",
     "output_type": "stream",
     "text": [
      "Test 1.b passed\n"
     ]
    }
   ],
   "source": [
    "def test_calculate_ngram_prob():\n",
    "    counts = count_ngrams(['практическое сентября',\n",
    "                           'второе практическое занятие в офлайне 32 сентября в 12 часов 32 минуты',\n",
    "                           'в офлайне в 32 12'], order=4)\n",
    "    assert calculate_ngram_prob(('в', 'офлайне'), counts) == 0.5\n",
    "    assert calculate_ngram_prob(('в', ), counts) == 4/25\n",
    "    assert calculate_ngram_prob(('в', ), counts, k=0.5) == (4+0.5)/(25+0.5*12)\n",
    "    assert calculate_ngram_prob(('в', 'офлайне', 'в', '32'), counts) == 1.0\n",
    "    assert calculate_ngram_prob(('в', 'офлайне'), counts, k=1) == 0.1875\n",
    "    assert calculate_ngram_prob(('в', 'офлайне'), counts, k=0.5) == 0.25\n",
    "    assert calculate_ngram_prob(('в', 'онлайне'), counts, k=0) == 0.0\n",
    "    assert calculate_ngram_prob(('в', 'онлайне'), counts, k=1) == 0.0625\n",
    "    assert calculate_ngram_prob(('в', 'офлайне'), counts, k=0.5) == 0.25\n",
    "\n",
    "    print(\"Test 1.b passed\")\n",
    "    \n",
    "\n",
    "test_calculate_ngram_prob()  "
   ]
  },
  {
   "cell_type": "markdown",
   "id": "da494bf0",
   "metadata": {},
   "source": [
    "Основной метрикой язковых моделей является перплексия. \n",
    "\n",
    "Перплексия  — безразмерная величина, мера того, насколько хорошо распределение вероятностей предсказывает выборку. Низкий показатель перплексии указывает на то, что распределение вероятности хорошо предсказывает выборку.\n",
    "\n",
    "$$ ppl = {P(w_1, w_2 ,..., w_N)^{- {1} \\over {N}}} $$\n"
   ]
  },
  {
   "cell_type": "code",
   "execution_count": null,
   "id": "70ec9506-a2c0-4cbb-8ed8-9ab3cee58f5c",
   "metadata": {},
   "outputs": [],
   "source": []
  },
  {
   "cell_type": "code",
   "execution_count": 203,
   "id": "a723368c-b0c7-4bfe-b63b-65563037580c",
   "metadata": {},
   "outputs": [],
   "source": [
    "import re\n",
    "\n",
    "# Языковая модель \n",
    "class NgramLM:\n",
    "    def __init__(self, order=3, bos=True, eos=True, k=1, predefined_vocab=None):\n",
    "        self.order = order\n",
    "        self.eos = eos\n",
    "        self.bos = bos\n",
    "        self.k = k\n",
    "        self.vocab = predefined_vocab\n",
    "        self.ngrams_count = None\n",
    "\n",
    "        self.N = 0\n",
    "    \n",
    "    @property\n",
    "    def V(self) -> int:\n",
    "        return len(self.vocab)\n",
    "\n",
    "    def fit(self, train_text: List[str]) -> None:\n",
    "        # Подсчет vocab и ngrams_count по обучающей выборке\n",
    "        self.ngrams_count = count_ngrams(train_text)\n",
    "        self.vocab = [gram for gram in self.ngrams_count.keys() if len(gram) == 1]\n",
    "\n",
    "    def predict_ngram_log_proba(self, ngram: Tuple[str]) -> float:\n",
    "        # считаем логарифм вероятности конкретной нграмы\n",
    "        proba = calculate_ngram_prob(ngram, self.ngrams_count, self.V, self.k)\n",
    "        return np.log(proba)\n",
    "\n",
    "    def predict_log_proba(self, words: List[str]) -> float:\n",
    "        if self.bos:\n",
    "            words = ['<s>'] + words\n",
    "        if self.eos:\n",
    "            words = words + ['</s>']\n",
    "\n",
    "        words = [ word for word in words if word.strip() != \"\" ]\n",
    "        \n",
    "        logprob = 0\n",
    "        # применяем chain rule, чтобы посчитать логарифм вероятности всей строки\n",
    "\n",
    "        start = 1 - self.order\n",
    "        end = 0\n",
    "\n",
    "        while end < len(words):\n",
    "            actual_start = start if start > 0 else 0\n",
    "            actual_end = end + 1\n",
    "\n",
    "            ngram = tuple(words[actual_start:actual_end])\n",
    "\n",
    "            logprob += self.predict_ngram_log_proba(ngram)\n",
    "\n",
    "            start += 1\n",
    "            end += 1\n",
    "\n",
    "            self.N += 1\n",
    "\n",
    "        return logprob\n",
    "\n",
    "    def ppl(self, text: List[str]) -> float:\n",
    "        self.N = 0\n",
    "        \n",
    "        total_log_proba = 0\n",
    "        total_ngrams_count = 0\n",
    "\n",
    "        for line in text:\n",
    "            tokens = re.split(r\"\\s+\", line.strip())\n",
    "            log_proba = self.predict_log_proba(tokens)\n",
    "            total_log_proba += log_proba\n",
    "\n",
    "        perplexity = np.exp(-total_log_proba / self.N) if self.N > 0 else 0.0\n",
    "\n",
    "        return perplexity"
   ]
  },
  {
   "cell_type": "code",
   "execution_count": null,
   "id": "660ad880-3cd8-49b3-95ca-335381fd0f8a",
   "metadata": {},
   "outputs": [],
   "source": []
  },
  {
   "cell_type": "code",
   "execution_count": 204,
   "id": "bb0bfe64",
   "metadata": {},
   "outputs": [
    {
     "name": "stdout",
     "output_type": "stream",
     "text": [
      "Test 2.a passed\n"
     ]
    }
   ],
   "source": [
    "def test_lm():\n",
    "    train_data = [\"по-моему мы сэкономим уйму времени если я сойду с ума прямо сейчас\",\n",
    "                  \"если я сойду с ума прямо сейчас по-моему мы сэкономим уйму времени\",\n",
    "                  \"мы сэкономим уйму времени если я сейчас сойду с ума по-моему\"]\n",
    "    global lm\n",
    "    lm = NgramLM(order=2)\n",
    "    lm.fit(train_data)\n",
    "    assert lm.V == 14\n",
    "    assert np.isclose(lm.predict_log_proba(['мы']), lm.predict_log_proba([\"если\"]))\n",
    "    assert lm.predict_log_proba([\"по-моему\"]) > lm.predict_log_proba([\"если\"]) \n",
    "    \n",
    "    gt = ((3+1)/(41 + 14) * 1/(3+14))**(-1/2)\n",
    "    ppl = lm.ppl([''])\n",
    "    assert  np.isclose(ppl, gt), f\"{ppl=} {gt=}\"\n",
    "    \n",
    "    gt = ((3+1)/(41 + 14) * 1/(3+14) * 1/(14)) ** (-1/3)\n",
    "    ppl = lm.ppl(['ЧТО'])\n",
    "    assert  np.isclose(ppl, gt), f\"{ppl=} {gt=}\"\n",
    "    \n",
    "    test_data = [\"по-моему если я прямо сейчас сойду с ума мы сэкономим уйму времени\"]\n",
    "    ppl = lm.ppl(test_data)\n",
    "    assert round(ppl, 2) == 7.33, f\"{ppl}\"\n",
    "\n",
    "    print(\"Test 2.a passed\")\n",
    "\n",
    "test_lm()"
   ]
  },
  {
   "cell_type": "markdown",
   "id": "edafa0a2",
   "metadata": {},
   "source": [
    "# 2. Предсказания с помощью языковой модели (4 балла)"
   ]
  },
  {
   "cell_type": "code",
   "execution_count": 208,
   "id": "85d2eb63",
   "metadata": {},
   "outputs": [],
   "source": [
    "def predict_next_word(lm, prefix: List[str], topk=4):\n",
    "    # Предсказывает topk наиболее вероятных продолжений фразы prefix\n",
    "\n",
    "    probabilities = []\n",
    "\n",
    "    for word in lm.vocab:\n",
    "        ngram = tuple(prefix + [word])\n",
    "        proba = lm.predict_ngram_log_proba(ngram)\n",
    "\n",
    "        probabilities.append({\n",
    "            \"ngram\": ngram,\n",
    "            \"proba\": proba,\n",
    "        })\n",
    "\n",
    "    probabilities.sort(key=lambda row: row[\"proba\"], reverse=True)\n",
    "\n",
    "    next_words = [(row[\"ngram\"][-1], row[\"proba\"]) for row in probabilities[:topk]]\n",
    "\n",
    "    return next_words"
   ]
  },
  {
   "cell_type": "markdown",
   "id": "3fc4846b",
   "metadata": {},
   "source": [
    "Обучите языковую модель на всем тексте из этой лабораторной работы (не забудьте заранее нормализовать текст).\n",
    "\n",
    "Что предскажет модель по префиксам `по-моему`, `сэкономим`, `нграм` и `вероятности`? "
   ]
  },
  {
   "cell_type": "code",
   "execution_count": null,
   "id": "107862fe",
   "metadata": {},
   "outputs": [],
   "source": [
    "#Your code here     "
   ]
  },
  {
   "cell_type": "code",
   "execution_count": 209,
   "id": "5e972a22-4c78-42d1-9907-e203b580cefc",
   "metadata": {},
   "outputs": [],
   "source": [
    "train_data = [\"по-моему мы сэкономим уйму времени если я сойду с ума прямо сейчас\",\n",
    "              \"если я сойду с ума прямо сейчас по-моему мы сэкономим уйму времени\",\n",
    "              \"мы сэкономим уйму времени если я сейчас сойду с ума по-моему\",'практическое сентября',\n",
    "              \"второе практическое занятие пройдет в офлайне тридцать второго сентября в двенадцать часов тридцать две минуты\",\n",
    "              \"в офлайне в тридцать два двенадцать\"]"
   ]
  },
  {
   "cell_type": "code",
   "execution_count": null,
   "id": "5690fe64-661a-486b-8eed-362a3d9b4e13",
   "metadata": {},
   "outputs": [],
   "source": []
  },
  {
   "cell_type": "code",
   "execution_count": 210,
   "id": "c4fec14b-0804-4286-99f2-50c4cdb9d0da",
   "metadata": {},
   "outputs": [
    {
     "name": "stdout",
     "output_type": "stream",
     "text": [
      "по-моему [(('<s>',), -3.4339872044851463), (('по-моему',), -3.4339872044851463), (('мы',), -3.4339872044851463), (('сэкономим',), -3.4339872044851463)]\n",
      "сэкономим [(('<s>',), -3.4339872044851463), (('по-моему',), -3.4339872044851463), (('мы',), -3.4339872044851463), (('сэкономим',), -3.4339872044851463)]\n",
      "нграм [(('<s>',), -3.332204510175204), (('по-моему',), -3.332204510175204), (('мы',), -3.332204510175204), (('сэкономим',), -3.332204510175204)]\n",
      "вероятности [(('<s>',), -3.332204510175204), (('по-моему',), -3.332204510175204), (('мы',), -3.332204510175204), (('сэкономим',), -3.332204510175204)]\n"
     ]
    }
   ],
   "source": [
    "lm = NgramLM(order=2)\n",
    "lm.fit(train_data)\n",
    "\n",
    "print(\"по-моему\", predict_next_word(lm, [\"по-моему\"]))\n",
    "print(\"сэкономим\", predict_next_word(lm, [\"сэкономим\"]))\n",
    "print(\"нграм\", predict_next_word(lm, [\"нграм\"]))\n",
    "print(\"вероятности\", predict_next_word(lm, [\"вероятности\"]))"
   ]
  }
 ],
 "metadata": {
  "kernelspec": {
   "display_name": "Python 3 (ipykernel)",
   "language": "python",
   "name": "python3"
  },
  "language_info": {
   "codemirror_mode": {
    "name": "ipython",
    "version": 3
   },
   "file_extension": ".py",
   "mimetype": "text/x-python",
   "name": "python",
   "nbconvert_exporter": "python",
   "pygments_lexer": "ipython3",
   "version": "3.9.18"
  }
 },
 "nbformat": 4,
 "nbformat_minor": 5
}
